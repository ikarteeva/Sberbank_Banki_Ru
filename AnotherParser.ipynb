{
  "nbformat": 4,
  "nbformat_minor": 0,
  "metadata": {
    "colab": {
      "name": "Untitled11.ipynb",
      "provenance": [],
      "authorship_tag": "ABX9TyOAvcDjqtEhn/Ml99lT6AB4",
      "include_colab_link": true
    },
    "kernelspec": {
      "name": "python3",
      "display_name": "Python 3"
    },
    "language_info": {
      "name": "python"
    }
  },
  "cells": [
    {
      "cell_type": "markdown",
      "metadata": {
        "id": "view-in-github",
        "colab_type": "text"
      },
      "source": [
        "<a href=\"https://colab.research.google.com/github/ikarteeva/Sberbank_Banki_Ru/blob/main/AnotherParser.ipynb\" target=\"_parent\"><img src=\"https://colab.research.google.com/assets/colab-badge.svg\" alt=\"Open In Colab\"/></a>"
      ]
    },
    {
      "cell_type": "code",
      "execution_count": 30,
      "metadata": {
        "id": "PjAzxg6M4Bfd"
      },
      "outputs": [],
      "source": [
        "from bs4 import BeautifulSoup\n",
        "import lxml\n",
        "import requests\n",
        "import pandas as pd"
      ]
    },
    {
      "cell_type": "code",
      "source": [
        "url = 'https://www.banki.ru/services/responses/bank/sberbank/?page='"
      ],
      "metadata": {
        "id": "zGvue70h4Ivw"
      },
      "execution_count": 2,
      "outputs": []
    },
    {
      "cell_type": "code",
      "source": [
        "itog = []\n",
        "itog2 = []\n",
        "\n",
        "i=1\n",
        "\n",
        "while i < 200:\n",
        "  url1=url+str(i)\n",
        "  r = requests.get(url1)\n",
        "  soup = BeautifulSoup(r.content, from_encoding=r.encoding)\n",
        "  quotes = soup.find_all(class_='responses__item__message markup-inside-small markup-inside-small--bullet')\n",
        "  for varior in soup.find_all(class_=\"header-h3\"):\n",
        "    itog2.append(varior.get('href'))\n",
        "\n",
        "  i += 1\n",
        "\n",
        "  for element in quotes:\n",
        "    itog.append(element.get_text())"
      ],
      "metadata": {
        "id": "tqKgNuTV4NQ8"
      },
      "execution_count": 43,
      "outputs": []
    },
    {
      "cell_type": "code",
      "source": [
        "print(\"Пример отзыва:\")\n",
        "print(itog[0])"
      ],
      "metadata": {
        "colab": {
          "base_uri": "https://localhost:8080/"
        },
        "id": "GqkvBGiA4QVc",
        "outputId": "4d1ef185-fee4-4aee-c667-32ff6d0606f3"
      },
      "execution_count": 44,
      "outputs": [
        {
          "output_type": "stream",
          "name": "stdout",
          "text": [
            "Пример отзыва:\n",
            "\n",
            "\t\t\t\t\t\t\tПришла в банк с обращением на возвратный платёж. Это уже 4-й раз. Обращение № 220117-0020-059100 от 17.01.2021 подала в промежутке времени с 13-00 до 14-00. Я пострадала от недобросовестной финансовой компании. Взяла расширенную выписку. Увидела в ней разнобой mcc-кодов, которые не относятся к виду деятельности компании и разнообразие банков эквайеров. В заявлении я написала в связи с чем хочу произвести возврат денежных средств. Днем того же  дня в 15-12 уже получила ответ от банка, исполнитель Рыжкова Людмила . В котором говориться что У банка нет оснований для пересмотра ранее принятого решения по оспоренным операциям. могу только лишь предположить, что за столь короткий срок банк даже не соизволил прочесть все что написано в заявлении. Оснований у банка на возвратный платёж очень много. Исходя из времени, которое отводиться на проверку заявления, могу предположить лишь то, что банк даже не думал направлять заявление на возвратный платёж в платёжную систему. У меня ни единого раза не запросили какие либо документы для проверки платежей, договора и что-либо ещё для установления факта мошенничества со стороны финансовой организации. Банк даже не смутило наличие разных mcc кодов, при этом банк быстро установил что денежные средства были направлены в брокерскую компанию. За 1 неделю до подачи последнего заявления, я консультировалась с руководителем отделения, руководитель связывался с исполнителем по моему обращению на возвратный платёж , имя которой Овчинникова Марина. Она тогда сказала при мне, что Сбербанк уже пол года не занимается возвратом платежей от брокеров. Но если клиент настаивает, то осуществить возврат возможно. Для этого необходимо приложить дополнительные документы в качестве переписки, где говориться что обратиться за возвратным платежом в банк эквайер может только банк эмитент. Я просто говорила руководителю отдела , который транслировал все Овчинниковой Марине, что я писала обращение в банк эквайер самостоятельно. И банк эквайер просил направить обращение через банк эмитент с заявлением об оспаривании операций, так как общается только с юридическими лицами. Я в очередной раз прошу у банка не свои деньги мне отдать, а обратиться за возвратным платежки в платёжную систему и банк-эквайер. Они имеют на это право. Если банку недостаточно представленной мной доказательной базы, то прошу предоставить мне квалифицированного специалиста банка, который сможет ответить на мои вопросы и инициировать возврат моих средств\n",
            "\t\t\t\t\t\t\n"
          ]
        }
      ]
    },
    {
      "cell_type": "code",
      "source": [
        "dictdat = {'Текст':itog, 'Ссылка':itog2}\n",
        "\n",
        "df = pd.DataFrame(dictdat)\n",
        "df.head()"
      ],
      "metadata": {
        "colab": {
          "base_uri": "https://localhost:8080/",
          "height": 206
        },
        "id": "RiPi9jBZ6gXn",
        "outputId": "8ca67347-3dec-4d65-adb6-c69b29b5da91"
      },
      "execution_count": 46,
      "outputs": [
        {
          "output_type": "execute_result",
          "data": {
            "text/html": [
              "\n",
              "  <div id=\"df-c3c7b2da-7e35-4fed-9e46-8c422a5a6b9a\">\n",
              "    <div class=\"colab-df-container\">\n",
              "      <div>\n",
              "<style scoped>\n",
              "    .dataframe tbody tr th:only-of-type {\n",
              "        vertical-align: middle;\n",
              "    }\n",
              "\n",
              "    .dataframe tbody tr th {\n",
              "        vertical-align: top;\n",
              "    }\n",
              "\n",
              "    .dataframe thead th {\n",
              "        text-align: right;\n",
              "    }\n",
              "</style>\n",
              "<table border=\"1\" class=\"dataframe\">\n",
              "  <thead>\n",
              "    <tr style=\"text-align: right;\">\n",
              "      <th></th>\n",
              "      <th>Текст</th>\n",
              "      <th>Ссылка</th>\n",
              "    </tr>\n",
              "  </thead>\n",
              "  <tbody>\n",
              "    <tr>\n",
              "      <th>0</th>\n",
              "      <td>\\n\\t\\t\\t\\t\\t\\t\\tПришла в банк с обращением на ...</td>\n",
              "      <td>/services/responses/bank/response/10611318/</td>\n",
              "    </tr>\n",
              "    <tr>\n",
              "      <th>1</th>\n",
              "      <td>\\n\\t\\t\\t\\t\\t\\t\\tДобрый день! Честно, я бы хоте...</td>\n",
              "      <td>/services/responses/bank/response/10611298/</td>\n",
              "    </tr>\n",
              "    <tr>\n",
              "      <th>2</th>\n",
              "      <td>\\n\\t\\t\\t\\t\\t\\t\\tОбратилась 10.01.22 в банк для...</td>\n",
              "      <td>/services/responses/bank/response/10611295/</td>\n",
              "    </tr>\n",
              "    <tr>\n",
              "      <th>3</th>\n",
              "      <td>\\n\\t\\t\\t\\t\\t\\t\\tГрустная история-предостережен...</td>\n",
              "      <td>/services/responses/bank/response/10611294/</td>\n",
              "    </tr>\n",
              "    <tr>\n",
              "      <th>4</th>\n",
              "      <td>\\n\\t\\t\\t\\t\\t\\t\\tУ нас сделка через горячо люби...</td>\n",
              "      <td>/services/responses/bank/response/10611277/</td>\n",
              "    </tr>\n",
              "  </tbody>\n",
              "</table>\n",
              "</div>\n",
              "      <button class=\"colab-df-convert\" onclick=\"convertToInteractive('df-c3c7b2da-7e35-4fed-9e46-8c422a5a6b9a')\"\n",
              "              title=\"Convert this dataframe to an interactive table.\"\n",
              "              style=\"display:none;\">\n",
              "        \n",
              "  <svg xmlns=\"http://www.w3.org/2000/svg\" height=\"24px\"viewBox=\"0 0 24 24\"\n",
              "       width=\"24px\">\n",
              "    <path d=\"M0 0h24v24H0V0z\" fill=\"none\"/>\n",
              "    <path d=\"M18.56 5.44l.94 2.06.94-2.06 2.06-.94-2.06-.94-.94-2.06-.94 2.06-2.06.94zm-11 1L8.5 8.5l.94-2.06 2.06-.94-2.06-.94L8.5 2.5l-.94 2.06-2.06.94zm10 10l.94 2.06.94-2.06 2.06-.94-2.06-.94-.94-2.06-.94 2.06-2.06.94z\"/><path d=\"M17.41 7.96l-1.37-1.37c-.4-.4-.92-.59-1.43-.59-.52 0-1.04.2-1.43.59L10.3 9.45l-7.72 7.72c-.78.78-.78 2.05 0 2.83L4 21.41c.39.39.9.59 1.41.59.51 0 1.02-.2 1.41-.59l7.78-7.78 2.81-2.81c.8-.78.8-2.07 0-2.86zM5.41 20L4 18.59l7.72-7.72 1.47 1.35L5.41 20z\"/>\n",
              "  </svg>\n",
              "      </button>\n",
              "      \n",
              "  <style>\n",
              "    .colab-df-container {\n",
              "      display:flex;\n",
              "      flex-wrap:wrap;\n",
              "      gap: 12px;\n",
              "    }\n",
              "\n",
              "    .colab-df-convert {\n",
              "      background-color: #E8F0FE;\n",
              "      border: none;\n",
              "      border-radius: 50%;\n",
              "      cursor: pointer;\n",
              "      display: none;\n",
              "      fill: #1967D2;\n",
              "      height: 32px;\n",
              "      padding: 0 0 0 0;\n",
              "      width: 32px;\n",
              "    }\n",
              "\n",
              "    .colab-df-convert:hover {\n",
              "      background-color: #E2EBFA;\n",
              "      box-shadow: 0px 1px 2px rgba(60, 64, 67, 0.3), 0px 1px 3px 1px rgba(60, 64, 67, 0.15);\n",
              "      fill: #174EA6;\n",
              "    }\n",
              "\n",
              "    [theme=dark] .colab-df-convert {\n",
              "      background-color: #3B4455;\n",
              "      fill: #D2E3FC;\n",
              "    }\n",
              "\n",
              "    [theme=dark] .colab-df-convert:hover {\n",
              "      background-color: #434B5C;\n",
              "      box-shadow: 0px 1px 3px 1px rgba(0, 0, 0, 0.15);\n",
              "      filter: drop-shadow(0px 1px 2px rgba(0, 0, 0, 0.3));\n",
              "      fill: #FFFFFF;\n",
              "    }\n",
              "  </style>\n",
              "\n",
              "      <script>\n",
              "        const buttonEl =\n",
              "          document.querySelector('#df-c3c7b2da-7e35-4fed-9e46-8c422a5a6b9a button.colab-df-convert');\n",
              "        buttonEl.style.display =\n",
              "          google.colab.kernel.accessAllowed ? 'block' : 'none';\n",
              "\n",
              "        async function convertToInteractive(key) {\n",
              "          const element = document.querySelector('#df-c3c7b2da-7e35-4fed-9e46-8c422a5a6b9a');\n",
              "          const dataTable =\n",
              "            await google.colab.kernel.invokeFunction('convertToInteractive',\n",
              "                                                     [key], {});\n",
              "          if (!dataTable) return;\n",
              "\n",
              "          const docLinkHtml = 'Like what you see? Visit the ' +\n",
              "            '<a target=\"_blank\" href=https://colab.research.google.com/notebooks/data_table.ipynb>data table notebook</a>'\n",
              "            + ' to learn more about interactive tables.';\n",
              "          element.innerHTML = '';\n",
              "          dataTable['output_type'] = 'display_data';\n",
              "          await google.colab.output.renderOutput(dataTable, element);\n",
              "          const docLink = document.createElement('div');\n",
              "          docLink.innerHTML = docLinkHtml;\n",
              "          element.appendChild(docLink);\n",
              "        }\n",
              "      </script>\n",
              "    </div>\n",
              "  </div>\n",
              "  "
            ],
            "text/plain": [
              "                                               Текст                                       Ссылка\n",
              "0  \\n\\t\\t\\t\\t\\t\\t\\tПришла в банк с обращением на ...  /services/responses/bank/response/10611318/\n",
              "1  \\n\\t\\t\\t\\t\\t\\t\\tДобрый день! Честно, я бы хоте...  /services/responses/bank/response/10611298/\n",
              "2  \\n\\t\\t\\t\\t\\t\\t\\tОбратилась 10.01.22 в банк для...  /services/responses/bank/response/10611295/\n",
              "3  \\n\\t\\t\\t\\t\\t\\t\\tГрустная история-предостережен...  /services/responses/bank/response/10611294/\n",
              "4  \\n\\t\\t\\t\\t\\t\\t\\tУ нас сделка через горячо люби...  /services/responses/bank/response/10611277/"
            ]
          },
          "metadata": {},
          "execution_count": 46
        }
      ]
    },
    {
      "cell_type": "code",
      "source": [
        "df.to_excel('выгрузка.xlsx')"
      ],
      "metadata": {
        "id": "a9ImcAo2B6vd"
      },
      "execution_count": 47,
      "outputs": []
    }
  ]
}